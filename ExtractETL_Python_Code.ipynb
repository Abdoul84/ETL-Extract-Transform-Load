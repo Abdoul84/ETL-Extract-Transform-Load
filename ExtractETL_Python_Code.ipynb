{
 "cells": [
  {
   "cell_type": "code",
   "execution_count": null,
   "metadata": {},
   "outputs": [],
   "source": [
    "import pandas as pd\n",
    "from sqlalchemy import create_engine\n",
    "from password import SQLPassword as password"
   ]
  },
  {
   "cell_type": "code",
   "execution_count": null,
   "metadata": {},
   "outputs": [],
   "source": [
    "obesity = pd.read_csv(\"Resources/obesity_df.csv\")\n",
    "obesity=obesity.loc[obesity[\"Obesity\"]!=\"No\"]\n",
    "obesity.head()"
   ]
  },
  {
   "cell_type": "code",
   "execution_count": null,
   "metadata": {},
   "outputs": [],
   "source": [
    "world_happiness = pd.read_csv(\"Resources/world_happiness_df.csv\")\n",
    "world_happiness.head()"
   ]
  },
  {
   "cell_type": "code",
   "execution_count": null,
   "metadata": {
    "scrolled": true
   },
   "outputs": [],
   "source": [
    "obesity_cols=[\"Country\", \"Year\", \"Obesity\", \"Sex\"]\n",
    "obesity_df = obesity[['Country', 'Year', 'Obesity', 'Sex']]\n",
    "obesity_df.fillna(0, inplace = True)\n",
    "obesity_df = obesity_df[(obesity_df['Year'] >= 2008)&(obesity_df['Sex']=='Both sexes')]\n",
    "obesity_df[\"Obesity\"]=[obesity_df.Obesity.str.split(expand=True)][0]\n",
    "\n",
    "obesity_df"
   ]
  },
  {
   "cell_type": "code",
   "execution_count": null,
   "metadata": {},
   "outputs": [],
   "source": [
    "world_happiness_df = world_happiness[['Country', 'Year', 'Life_Ladder','Log_GDP_Per_Capita','Social_Support',\\\n",
    "                           'Healthy_Life_Expectancy_at_Birth','Freedom_to_Make_Life_Choices', 'Generosity',\\\n",
    "                           'Perceptions_of_Corruptions','Positive_Affect','Negative_Affect']].copy()"
   ]
  },
  {
   "cell_type": "code",
   "execution_count": null,
   "metadata": {},
   "outputs": [],
   "source": [
    "world_happiness_df.columns = ['Country', 'Year', 'Life_Ladder','Log_GDP_Per_Capita','Social_Support',\\\n",
    "                           'Healthy_Life_Expectancy_at_Birth','Freedom_to_Make_Life_Choices', 'Generosity',\\\n",
    "                           'Perceptions_of_Corruptions','Positive_Affect','Negative_Affect']\n",
    "world_happiness_df.fillna(0, inplace = True)\n",
    "world_happiness_df.head()"
   ]
  },
  {
   "cell_type": "code",
   "execution_count": null,
   "metadata": {},
   "outputs": [],
   "source": [
    "joint_df = pd.merge(obesity_df, world_happiness_df, on = ['Country','Year'])\n",
    "joint_df.head()"
   ]
  },
  {
   "cell_type": "code",
   "execution_count": null,
   "metadata": {},
   "outputs": [],
   "source": [
    "connection_string = f\"{password}@localhost:5432/etl_project\"\n",
    "engine = create_engine(f'postgresql://{connection_string}')\n",
    "engine.table_names()"
   ]
  },
  {
   "cell_type": "code",
   "execution_count": null,
   "metadata": {},
   "outputs": [],
   "source": [
    "obesity_df.to_sql('obesity', con=engine, if_exists='replace')\n",
    "world_happiness_df.to_sql('worldhappiness', con=engine, if_exists='replace')"
   ]
  },
  {
   "cell_type": "code",
   "execution_count": null,
   "metadata": {},
   "outputs": [],
   "source": [
    "world_happiness_df.to_csv(\"Resources/world_happiness_df.csv\")\n",
    "obesity_df.to_csv(\"Resources/obesity_df.csv\")"
   ]
  },
  {
   "cell_type": "code",
   "execution_count": null,
   "metadata": {},
   "outputs": [],
   "source": []
  },
  {
   "cell_type": "code",
   "execution_count": null,
   "metadata": {},
   "outputs": [],
   "source": []
  }
 ],
 "metadata": {
  "kernelspec": {
   "display_name": "Python 3",
   "language": "python",
   "name": "python3"
  },
  "language_info": {
   "codemirror_mode": {
    "name": "ipython",
    "version": 3
   },
   "file_extension": ".py",
   "mimetype": "text/x-python",
   "name": "python",
   "nbconvert_exporter": "python",
   "pygments_lexer": "ipython3",
   "version": "3.7.4"
  }
 },
 "nbformat": 4,
 "nbformat_minor": 4
}
